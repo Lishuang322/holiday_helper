{
 "cells": [
  {
   "cell_type": "code",
   "execution_count": 29,
   "metadata": {},
   "outputs": [],
   "source": [
    "import os\n",
    "rnk_path = '/home/hls/workspace/creat_holiday_label/holiday_rnk'\n",
    "result_path = '/home/hls/workspace/creat_holiday_label/deep_retrieval.dat'\n",
    "#N:number of images to evaluate for every query\n",
    "N = 10\n",
    "result = []\n",
    "#combine the ranking result of deep retrieval to a 2d list\n",
    "for fil in os.listdir(rnk_path):\n",
    "    if fil[-3:] == 'rnk':\n",
    "        tmp = []\n",
    "        tmp.append(fil[:-4])\n",
    "        with open (os.path.join(rnk_path,fil),'r') as f :\n",
    "            lines = f.readlines()\n",
    "            for i in range(N):\n",
    "                lines[i] = lines[i].strip('\\n')\n",
    "                tmp.append(lines[i])   \n",
    "        #print(tmp)\n",
    "        result.append(tmp)       \n",
    " \n",
    "\n",
    "#write to a file\n",
    "with open (result_path,'w') as f:\n",
    "    for query_line in result:\n",
    "        #print(query_line)\n",
    "        for i in  range(len(query_line)):\n",
    "            if i==0 :\n",
    "                f.write(query_line[i]+'.jpg')\n",
    "            else:\n",
    "                f.write(' '+str(i-1)+' '+query_line[i]+'.jpg')\n",
    "        f.write('\\n')"
   ]
  },
  {
   "cell_type": "code",
   "execution_count": null,
   "metadata": {},
   "outputs": [],
   "source": []
  }
 ],
 "metadata": {
  "kernelspec": {
   "display_name": "py3",
   "language": "python",
   "name": "py3"
  },
  "language_info": {
   "codemirror_mode": {
    "name": "ipython",
    "version": 3
   },
   "file_extension": ".py",
   "mimetype": "text/x-python",
   "name": "python",
   "nbconvert_exporter": "python",
   "pygments_lexer": "ipython3",
   "version": "3.6.7"
  }
 },
 "nbformat": 4,
 "nbformat_minor": 2
}
